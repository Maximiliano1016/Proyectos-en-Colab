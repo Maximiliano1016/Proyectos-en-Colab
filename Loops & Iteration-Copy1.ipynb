{
 "cells": [
  {
   "cell_type": "markdown",
   "metadata": {},
   "source": [
    "## Loops & Iteration"
   ]
  },
  {
   "cell_type": "markdown",
   "metadata": {},
   "source": [
    "### Loops"
   ]
  },
  {
   "cell_type": "markdown",
   "metadata": {},
   "source": [
    "#### Check whether a number is even or odd"
   ]
  },
  {
   "cell_type": "code",
   "execution_count": 3,
   "metadata": {},
   "outputs": [
    {
     "name": "stdout",
     "output_type": "stream",
     "text": [
      "-20.3 is an Odd number\n"
     ]
    }
   ],
   "source": [
    "x = -20.3\n",
    "\n",
    "if x % 2 == 0:\n",
    "    print(x, \"is an Even number\")\n",
    "else:\n",
    "    print(x, \"is an Odd number\")"
   ]
  },
  {
   "cell_type": "code",
   "execution_count": 9,
   "metadata": {},
   "outputs": [
    {
     "name": "stdout",
     "output_type": "stream",
     "text": [
      "17 Es un número entero impar\n"
     ]
    }
   ],
   "source": [
    "x = 17\n",
    "\n",
    "if x % 2 == 0:\n",
    "    print(x, \"Es un número entero par\")\n",
    "elif x % 2 ==1:\n",
    "    print(x,  \"Es un número entero impar\")\n",
    "else :\n",
    "    print(x, \"No es un número entero, es decimal\")"
   ]
  },
  {
   "cell_type": "code",
   "execution_count": 10,
   "metadata": {},
   "outputs": [
    {
     "name": "stdout",
     "output_type": "stream",
     "text": [
      "Enter your age: 21\n",
      "21 is an Odd number\n"
     ]
    }
   ],
   "source": [
    "x = int(input(\"Enter your age: \"))\n",
    "\n",
    "if x % 2 == 0:\n",
    "    print(x, \"is an Even number\")\n",
    "else:\n",
    "    print(x, \"is an Odd number\")"
   ]
  },
  {
   "cell_type": "markdown",
   "metadata": {},
   "source": [
    "#### < 18 & > 50 are not allowed for the party. --> 18 or above and 50 and below are allowed for the party."
   ]
  },
  {
   "cell_type": "code",
   "execution_count": 10,
   "metadata": {},
   "outputs": [
    {
     "name": "stdout",
     "output_type": "stream",
     "text": [
      "Enter your age: 22\n",
      "Welcome to the party\n"
     ]
    }
   ],
   "source": [
    "x = int(input(\"Enter your age: \"))\n",
    "\n",
    "if x < 18 or x > 50:\n",
    "    print(\"Sorry!! You are not allowed for the party\")\n",
    "else:\n",
    "    print(\"Welcome to the party\")"
   ]
  },
  {
   "cell_type": "markdown",
   "metadata": {},
   "source": [
    "#### Program which offers various discounts on purchase bills"
   ]
  },
  {
   "cell_type": "code",
   "execution_count": 11,
   "metadata": {},
   "outputs": [
    {
     "name": "stdout",
     "output_type": "stream",
     "text": [
      "Input your billed amount: 3200.56\n",
      "You have won a voucher of Rs. 500/-\n"
     ]
    }
   ],
   "source": [
    "shop_total = float(input(\"Input your billed amount: \"))\n",
    "\n",
    "if shop_total >=5000:\n",
    "    print(\"You have won a voucher of Rs. 1000/-\")\n",
    "elif shop_total >=2500:\n",
    "    print(\"You have won a voucher of Rs. 500/-\")\n",
    "else:\n",
    "    print(\"OOPS!! No discount for you!!\")"
   ]
  },
  {
   "cell_type": "markdown",
   "metadata": {},
   "source": [
    "### Iteration"
   ]
  },
  {
   "cell_type": "code",
   "execution_count": 20,
   "metadata": {},
   "outputs": [
    {
     "name": "stdout",
     "output_type": "stream",
     "text": [
      "10\n",
      "20\n",
      "30\n",
      "40\n",
      "50\n"
     ]
    }
   ],
   "source": [
    "#Iterate over a list of integers\n",
    "\n",
    "list_1 = [10,20,30,40,50]\n",
    "for num in list_1:\n",
    "    print(num)"
   ]
  },
  {
   "cell_type": "code",
   "execution_count": 12,
   "metadata": {},
   "outputs": [
    {
     "name": "stdout",
     "output_type": "stream",
     "text": [
      "M\n",
      "a\n",
      "x\n",
      "i\n",
      "m\n",
      "i\n",
      "l\n",
      "i\n",
      "a\n",
      "n\n",
      "o\n"
     ]
    }
   ],
   "source": [
    "#Iterate over a String\n",
    "\n",
    "str_1 = \"Maximiliano\"\n",
    "for cada_letra in str_1:\n",
    "    print(cada_letra)"
   ]
  },
  {
   "cell_type": "code",
   "execution_count": 18,
   "metadata": {},
   "outputs": [
    {
     "name": "stdout",
     "output_type": "stream",
     "text": [
      "La edad de Sam es 25\n",
      "La edad de Sharma es 28\n",
      "La edad de Ravi es 22\n",
      "La edad de Sid es 23\n",
      "La edad de Varun es 24\n"
     ]
    }
   ],
   "source": [
    "#Iterate over a dictionary\n",
    "\n",
    "students_data = {1: ['Sam', 25], 2:['Sharma',28], 3:['Ravi',22], 4:['Sid',23], 5:['Varun',24]}\n",
    "\n",
    "for key,val in students_data.items():\n",
    "    print(\"La edad de\",val[0], \"es\",val[-1])"
   ]
  },
  {
   "cell_type": "code",
   "execution_count": 31,
   "metadata": {},
   "outputs": [
    {
     "name": "stdout",
     "output_type": "stream",
     "text": [
      "1\n",
      "2\n",
      "3\n",
      "4\n",
      "5\n"
     ]
    },
    {
     "data": {
      "text/plain": [
       "dict_keys([1, 2, 3, 4, 5])"
      ]
     },
     "execution_count": 31,
     "metadata": {},
     "output_type": "execute_result"
    }
   ],
   "source": [
    "for key in students_data.keys():\n",
    "    print(key)\n",
    "students_data.keys()"
   ]
  },
  {
   "cell_type": "code",
   "execution_count": 28,
   "metadata": {},
   "outputs": [
    {
     "data": {
      "text/plain": [
       "range(1, 101)"
      ]
     },
     "execution_count": 28,
     "metadata": {},
     "output_type": "execute_result"
    }
   ],
   "source": [
    "range(1,101)"
   ]
  },
  {
   "cell_type": "code",
   "execution_count": 29,
   "metadata": {},
   "outputs": [
    {
     "name": "stdout",
     "output_type": "stream",
     "text": [
      "1\n",
      "2\n",
      "3\n",
      "4\n"
     ]
    }
   ],
   "source": [
    "#Iterate over a range of values\n",
    "\n",
    "for i in range(1,5):\n",
    "    print(i)"
   ]
  },
  {
   "cell_type": "markdown",
   "metadata": {},
   "source": [
    "### Comprehensions"
   ]
  },
  {
   "cell_type": "code",
   "execution_count": 30,
   "metadata": {},
   "outputs": [
    {
     "name": "stdout",
     "output_type": "stream",
     "text": [
      "['Automobiles', 'Honda', 'Benz', 'Maruti', 'Kia']\n"
     ]
    }
   ],
   "source": [
    "list_1 = [\"Automobiles\", \"Honda\", \"Benz\", \"Maruti\", \"Kia\"]\n",
    "\n",
    "list_2 = []\n",
    "\n",
    "for i in list_1:\n",
    "    list_2.append(i)\n",
    "    \n",
    "print(list_2)"
   ]
  },
  {
   "cell_type": "code",
   "execution_count": 31,
   "metadata": {
    "scrolled": true
   },
   "outputs": [
    {
     "name": "stdout",
     "output_type": "stream",
     "text": [
      "[11, 5, 4, 6, 3]\n"
     ]
    }
   ],
   "source": [
    "list_1 = [\"Automobiles\", \"Honda\", \"Benz\", \"Maruti\", \"Kia\"]\n",
    "\n",
    "list_2 = []\n",
    "\n",
    "for i in list_1:\n",
    "    list_2.append(len(i))\n",
    "    \n",
    "print(list_2)"
   ]
  },
  {
   "cell_type": "code",
   "execution_count": 32,
   "metadata": {},
   "outputs": [
    {
     "name": "stdout",
     "output_type": "stream",
     "text": [
      "[11, 5, 4, 6, 3]\n"
     ]
    }
   ],
   "source": [
    "list_1 = [\"Automobiles\", \"Honda\", \"Benz\", \"Maruti\", \"Kia\"]\n",
    "\n",
    "list_2 = [len(i) for i in list_1]\n",
    "    \n",
    "print(list_2)"
   ]
  },
  {
   "cell_type": "code",
   "execution_count": 33,
   "metadata": {},
   "outputs": [
    {
     "data": {
      "text/plain": [
       "{'Automobiles': 11, 'Honda': 5, 'Benz': 4, 'Maruti': 6, 'Kia': 3}"
      ]
     },
     "execution_count": 33,
     "metadata": {},
     "output_type": "execute_result"
    }
   ],
   "source": [
    "list_1 = [\"Automobiles\", \"Honda\", \"Benz\", \"Maruti\", \"Kia\"]\n",
    "\n",
    "d = {i: len(i) for i in list_1}\n",
    "\n",
    "d"
   ]
  },
  {
   "cell_type": "code",
   "execution_count": null,
   "metadata": {},
   "outputs": [],
   "source": []
  }
 ],
 "metadata": {
  "kernelspec": {
   "display_name": "Python 3 (ipykernel)",
   "language": "python",
   "name": "python3"
  },
  "language_info": {
   "codemirror_mode": {
    "name": "ipython",
    "version": 3
   },
   "file_extension": ".py",
   "mimetype": "text/x-python",
   "name": "python",
   "nbconvert_exporter": "python",
   "pygments_lexer": "ipython3",
   "version": "3.9.7"
  }
 },
 "nbformat": 4,
 "nbformat_minor": 2
}
